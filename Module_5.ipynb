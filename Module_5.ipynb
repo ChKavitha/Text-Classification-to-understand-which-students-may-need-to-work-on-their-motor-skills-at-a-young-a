{
 "cells": [
  {
   "cell_type": "code",
   "execution_count": 12,
   "id": "8a888dd1",
   "metadata": {},
   "outputs": [],
   "source": [
    "import numpy as np\n",
    "import pandas as pd\n",
    "from sklearn.model_selection import train_test_split\n",
    "from sklearn.neighbors import KNeighborsClassifier\n",
    "import matplotlib.pyplot as plt \n",
    "import seaborn as sns\n"
   ]
  },
  {
   "cell_type": "code",
   "execution_count": 13,
   "id": "634be83c",
   "metadata": {},
   "outputs": [],
   "source": [
    "df = pd.read_csv('letters.csv')#,index_col=0)"
   ]
  },
  {
   "cell_type": "code",
   "execution_count": 14,
   "id": "0e642506",
   "metadata": {},
   "outputs": [
    {
     "name": "stdout",
     "output_type": "stream",
     "text": [
      "<class 'pandas.core.frame.DataFrame'>\n",
      "RangeIndex: 42000 entries, 0 to 41999\n",
      "Data columns (total 46 columns):\n",
      " #   Column    Non-Null Count  Dtype\n",
      "---  ------    --------------  -----\n",
      " 0   label     42000 non-null  int64\n",
      " 1   pixel43   42000 non-null  int64\n",
      " 2   pixel44   42000 non-null  int64\n",
      " 3   pixel92   42000 non-null  int64\n",
      " 4   pixel124  42000 non-null  int64\n",
      " 5   pixel125  42000 non-null  int64\n",
      " 6   pixel126  42000 non-null  int64\n",
      " 7   pixel127  42000 non-null  int64\n",
      " 8   pixel128  42000 non-null  int64\n",
      " 9   pixel129  42000 non-null  int64\n",
      " 10  pixel130  42000 non-null  int64\n",
      " 11  pixel131  42000 non-null  int64\n",
      " 12  pixel132  42000 non-null  int64\n",
      " 13  pixel133  42000 non-null  int64\n",
      " 14  pixel134  42000 non-null  int64\n",
      " 15  pixel135  42000 non-null  int64\n",
      " 16  pixel136  42000 non-null  int64\n",
      " 17  pixel137  42000 non-null  int64\n",
      " 18  pixel138  42000 non-null  int64\n",
      " 19  pixel146  42000 non-null  int64\n",
      " 20  pixel147  42000 non-null  int64\n",
      " 21  pixel148  42000 non-null  int64\n",
      " 22  pixel149  42000 non-null  int64\n",
      " 23  pixel150  42000 non-null  int64\n",
      " 24  pixel151  42000 non-null  int64\n",
      " 25  pixel152  42000 non-null  int64\n",
      " 26  pixel153  42000 non-null  int64\n",
      " 27  pixel154  42000 non-null  int64\n",
      " 28  pixel155  42000 non-null  int64\n",
      " 29  pixel156  42000 non-null  int64\n",
      " 30  pixel157  42000 non-null  int64\n",
      " 31  pixel158  42000 non-null  int64\n",
      " 32  pixel159  42000 non-null  int64\n",
      " 33  pixel160  42000 non-null  int64\n",
      " 34  pixel327  42000 non-null  int64\n",
      " 35  pixel328  42000 non-null  int64\n",
      " 36  pixel329  42000 non-null  int64\n",
      " 37  pixel351  42000 non-null  int64\n",
      " 38  pixel410  42000 non-null  int64\n",
      " 39  pixel411  42000 non-null  int64\n",
      " 40  pixel412  42000 non-null  int64\n",
      " 41  pixel413  42000 non-null  int64\n",
      " 42  pixel414  42000 non-null  int64\n",
      " 43  pixel415  42000 non-null  int64\n",
      " 44  pixel416  42000 non-null  int64\n",
      " 45  pixel417  42000 non-null  int64\n",
      "dtypes: int64(46)\n",
      "memory usage: 14.7 MB\n"
     ]
    }
   ],
   "source": [
    "df.info()"
   ]
  },
  {
   "cell_type": "code",
   "execution_count": 15,
   "id": "abbd6219",
   "metadata": {},
   "outputs": [
    {
     "data": {
      "text/html": [
       "<div>\n",
       "<style scoped>\n",
       "    .dataframe tbody tr th:only-of-type {\n",
       "        vertical-align: middle;\n",
       "    }\n",
       "\n",
       "    .dataframe tbody tr th {\n",
       "        vertical-align: top;\n",
       "    }\n",
       "\n",
       "    .dataframe thead th {\n",
       "        text-align: right;\n",
       "    }\n",
       "</style>\n",
       "<table border=\"1\" class=\"dataframe\">\n",
       "  <thead>\n",
       "    <tr style=\"text-align: right;\">\n",
       "      <th></th>\n",
       "      <th>label</th>\n",
       "      <th>pixel43</th>\n",
       "      <th>pixel44</th>\n",
       "      <th>pixel92</th>\n",
       "      <th>pixel124</th>\n",
       "      <th>pixel125</th>\n",
       "      <th>pixel126</th>\n",
       "      <th>pixel127</th>\n",
       "      <th>pixel128</th>\n",
       "      <th>pixel129</th>\n",
       "      <th>...</th>\n",
       "      <th>pixel329</th>\n",
       "      <th>pixel351</th>\n",
       "      <th>pixel410</th>\n",
       "      <th>pixel411</th>\n",
       "      <th>pixel412</th>\n",
       "      <th>pixel413</th>\n",
       "      <th>pixel414</th>\n",
       "      <th>pixel415</th>\n",
       "      <th>pixel416</th>\n",
       "      <th>pixel417</th>\n",
       "    </tr>\n",
       "  </thead>\n",
       "  <tbody>\n",
       "    <tr>\n",
       "      <th>0</th>\n",
       "      <td>1</td>\n",
       "      <td>0</td>\n",
       "      <td>0</td>\n",
       "      <td>0</td>\n",
       "      <td>0</td>\n",
       "      <td>0</td>\n",
       "      <td>0</td>\n",
       "      <td>0</td>\n",
       "      <td>0</td>\n",
       "      <td>0</td>\n",
       "      <td>...</td>\n",
       "      <td>0</td>\n",
       "      <td>254</td>\n",
       "      <td>0</td>\n",
       "      <td>0</td>\n",
       "      <td>0</td>\n",
       "      <td>0</td>\n",
       "      <td>0</td>\n",
       "      <td>0</td>\n",
       "      <td>0</td>\n",
       "      <td>0</td>\n",
       "    </tr>\n",
       "    <tr>\n",
       "      <th>1</th>\n",
       "      <td>0</td>\n",
       "      <td>0</td>\n",
       "      <td>0</td>\n",
       "      <td>0</td>\n",
       "      <td>137</td>\n",
       "      <td>137</td>\n",
       "      <td>192</td>\n",
       "      <td>86</td>\n",
       "      <td>72</td>\n",
       "      <td>1</td>\n",
       "      <td>...</td>\n",
       "      <td>254</td>\n",
       "      <td>0</td>\n",
       "      <td>0</td>\n",
       "      <td>75</td>\n",
       "      <td>254</td>\n",
       "      <td>254</td>\n",
       "      <td>254</td>\n",
       "      <td>17</td>\n",
       "      <td>0</td>\n",
       "      <td>0</td>\n",
       "    </tr>\n",
       "    <tr>\n",
       "      <th>2</th>\n",
       "      <td>1</td>\n",
       "      <td>0</td>\n",
       "      <td>0</td>\n",
       "      <td>0</td>\n",
       "      <td>3</td>\n",
       "      <td>141</td>\n",
       "      <td>139</td>\n",
       "      <td>3</td>\n",
       "      <td>0</td>\n",
       "      <td>0</td>\n",
       "      <td>...</td>\n",
       "      <td>0</td>\n",
       "      <td>184</td>\n",
       "      <td>0</td>\n",
       "      <td>0</td>\n",
       "      <td>0</td>\n",
       "      <td>0</td>\n",
       "      <td>0</td>\n",
       "      <td>0</td>\n",
       "      <td>0</td>\n",
       "      <td>0</td>\n",
       "    </tr>\n",
       "    <tr>\n",
       "      <th>3</th>\n",
       "      <td>4</td>\n",
       "      <td>0</td>\n",
       "      <td>0</td>\n",
       "      <td>0</td>\n",
       "      <td>0</td>\n",
       "      <td>0</td>\n",
       "      <td>0</td>\n",
       "      <td>0</td>\n",
       "      <td>0</td>\n",
       "      <td>0</td>\n",
       "      <td>...</td>\n",
       "      <td>0</td>\n",
       "      <td>0</td>\n",
       "      <td>94</td>\n",
       "      <td>255</td>\n",
       "      <td>69</td>\n",
       "      <td>0</td>\n",
       "      <td>0</td>\n",
       "      <td>0</td>\n",
       "      <td>0</td>\n",
       "      <td>0</td>\n",
       "    </tr>\n",
       "    <tr>\n",
       "      <th>4</th>\n",
       "      <td>0</td>\n",
       "      <td>0</td>\n",
       "      <td>0</td>\n",
       "      <td>0</td>\n",
       "      <td>155</td>\n",
       "      <td>254</td>\n",
       "      <td>254</td>\n",
       "      <td>254</td>\n",
       "      <td>157</td>\n",
       "      <td>30</td>\n",
       "      <td>...</td>\n",
       "      <td>253</td>\n",
       "      <td>0</td>\n",
       "      <td>0</td>\n",
       "      <td>0</td>\n",
       "      <td>223</td>\n",
       "      <td>253</td>\n",
       "      <td>253</td>\n",
       "      <td>253</td>\n",
       "      <td>129</td>\n",
       "      <td>0</td>\n",
       "    </tr>\n",
       "    <tr>\n",
       "      <th>5</th>\n",
       "      <td>0</td>\n",
       "      <td>0</td>\n",
       "      <td>0</td>\n",
       "      <td>0</td>\n",
       "      <td>3</td>\n",
       "      <td>141</td>\n",
       "      <td>202</td>\n",
       "      <td>254</td>\n",
       "      <td>193</td>\n",
       "      <td>44</td>\n",
       "      <td>...</td>\n",
       "      <td>0</td>\n",
       "      <td>0</td>\n",
       "      <td>255</td>\n",
       "      <td>123</td>\n",
       "      <td>0</td>\n",
       "      <td>0</td>\n",
       "      <td>0</td>\n",
       "      <td>0</td>\n",
       "      <td>0</td>\n",
       "      <td>0</td>\n",
       "    </tr>\n",
       "    <tr>\n",
       "      <th>6</th>\n",
       "      <td>7</td>\n",
       "      <td>0</td>\n",
       "      <td>0</td>\n",
       "      <td>0</td>\n",
       "      <td>0</td>\n",
       "      <td>0</td>\n",
       "      <td>0</td>\n",
       "      <td>0</td>\n",
       "      <td>0</td>\n",
       "      <td>0</td>\n",
       "      <td>...</td>\n",
       "      <td>0</td>\n",
       "      <td>51</td>\n",
       "      <td>0</td>\n",
       "      <td>0</td>\n",
       "      <td>0</td>\n",
       "      <td>0</td>\n",
       "      <td>0</td>\n",
       "      <td>0</td>\n",
       "      <td>0</td>\n",
       "      <td>0</td>\n",
       "    </tr>\n",
       "    <tr>\n",
       "      <th>7</th>\n",
       "      <td>3</td>\n",
       "      <td>0</td>\n",
       "      <td>0</td>\n",
       "      <td>0</td>\n",
       "      <td>0</td>\n",
       "      <td>0</td>\n",
       "      <td>0</td>\n",
       "      <td>0</td>\n",
       "      <td>0</td>\n",
       "      <td>0</td>\n",
       "      <td>...</td>\n",
       "      <td>15</td>\n",
       "      <td>218</td>\n",
       "      <td>0</td>\n",
       "      <td>0</td>\n",
       "      <td>0</td>\n",
       "      <td>0</td>\n",
       "      <td>0</td>\n",
       "      <td>0</td>\n",
       "      <td>0</td>\n",
       "      <td>0</td>\n",
       "    </tr>\n",
       "    <tr>\n",
       "      <th>8</th>\n",
       "      <td>5</td>\n",
       "      <td>0</td>\n",
       "      <td>0</td>\n",
       "      <td>0</td>\n",
       "      <td>0</td>\n",
       "      <td>0</td>\n",
       "      <td>0</td>\n",
       "      <td>0</td>\n",
       "      <td>0</td>\n",
       "      <td>0</td>\n",
       "      <td>...</td>\n",
       "      <td>0</td>\n",
       "      <td>235</td>\n",
       "      <td>253</td>\n",
       "      <td>229</td>\n",
       "      <td>23</td>\n",
       "      <td>0</td>\n",
       "      <td>0</td>\n",
       "      <td>0</td>\n",
       "      <td>0</td>\n",
       "      <td>0</td>\n",
       "    </tr>\n",
       "    <tr>\n",
       "      <th>9</th>\n",
       "      <td>3</td>\n",
       "      <td>0</td>\n",
       "      <td>0</td>\n",
       "      <td>0</td>\n",
       "      <td>254</td>\n",
       "      <td>255</td>\n",
       "      <td>199</td>\n",
       "      <td>111</td>\n",
       "      <td>18</td>\n",
       "      <td>9</td>\n",
       "      <td>...</td>\n",
       "      <td>0</td>\n",
       "      <td>253</td>\n",
       "      <td>122</td>\n",
       "      <td>253</td>\n",
       "      <td>253</td>\n",
       "      <td>170</td>\n",
       "      <td>0</td>\n",
       "      <td>0</td>\n",
       "      <td>0</td>\n",
       "      <td>0</td>\n",
       "    </tr>\n",
       "  </tbody>\n",
       "</table>\n",
       "<p>10 rows × 46 columns</p>\n",
       "</div>"
      ],
      "text/plain": [
       "   label  pixel43  pixel44  pixel92  pixel124  pixel125  pixel126  pixel127  \\\n",
       "0      1        0        0        0         0         0         0         0   \n",
       "1      0        0        0        0       137       137       192        86   \n",
       "2      1        0        0        0         3       141       139         3   \n",
       "3      4        0        0        0         0         0         0         0   \n",
       "4      0        0        0        0       155       254       254       254   \n",
       "5      0        0        0        0         3       141       202       254   \n",
       "6      7        0        0        0         0         0         0         0   \n",
       "7      3        0        0        0         0         0         0         0   \n",
       "8      5        0        0        0         0         0         0         0   \n",
       "9      3        0        0        0       254       255       199       111   \n",
       "\n",
       "   pixel128  pixel129  ...  pixel329  pixel351  pixel410  pixel411  pixel412  \\\n",
       "0         0         0  ...         0       254         0         0         0   \n",
       "1        72         1  ...       254         0         0        75       254   \n",
       "2         0         0  ...         0       184         0         0         0   \n",
       "3         0         0  ...         0         0        94       255        69   \n",
       "4       157        30  ...       253         0         0         0       223   \n",
       "5       193        44  ...         0         0       255       123         0   \n",
       "6         0         0  ...         0        51         0         0         0   \n",
       "7         0         0  ...        15       218         0         0         0   \n",
       "8         0         0  ...         0       235       253       229        23   \n",
       "9        18         9  ...         0       253       122       253       253   \n",
       "\n",
       "   pixel413  pixel414  pixel415  pixel416  pixel417  \n",
       "0         0         0         0         0         0  \n",
       "1       254       254        17         0         0  \n",
       "2         0         0         0         0         0  \n",
       "3         0         0         0         0         0  \n",
       "4       253       253       253       129         0  \n",
       "5         0         0         0         0         0  \n",
       "6         0         0         0         0         0  \n",
       "7         0         0         0         0         0  \n",
       "8         0         0         0         0         0  \n",
       "9       170         0         0         0         0  \n",
       "\n",
       "[10 rows x 46 columns]"
      ]
     },
     "execution_count": 15,
     "metadata": {},
     "output_type": "execute_result"
    }
   ],
   "source": [
    "df.head(10)"
   ]
  },
  {
   "cell_type": "code",
   "execution_count": 16,
   "id": "f14aef3e",
   "metadata": {},
   "outputs": [],
   "source": [
    "# Separating the dependent and independent variable\n",
    "y = df['label']\n",
    "X = df.drop('label', axis = 1)\n",
    "\n",
    "  \n",
    "X_train, X_test, y_train, y_test = train_test_split(X, y, test_size = 0.2, random_state = 1245)\n",
    "# Splitting the data into training and testing data"
   ]
  },
  {
   "cell_type": "markdown",
   "id": "614c7a3b",
   "metadata": {},
   "source": [
    "# Training KNN Model"
   ]
  },
  {
   "cell_type": "code",
   "execution_count": 21,
   "id": "512f8d89",
   "metadata": {},
   "outputs": [],
   "source": [
    "K = []\n",
    "training = []\n",
    "test = []\n",
    "scores = {}\n",
    "  \n",
    "for k in range(2, 9):\n",
    "    clf = KNeighborsClassifier(n_neighbors = k)\n",
    "    clf.fit(X_train, y_train)\n",
    "  \n",
    "    training_score = clf.score(X_train, y_train)\n",
    "    test_score = clf.score(X_test, y_test)\n",
    "    K.append(k)\n",
    "  \n",
    "    training.append(training_score)\n",
    "    test.append(test_score)\n",
    "    scores[k] = [training_score, test_score]"
   ]
  },
  {
   "cell_type": "code",
   "execution_count": 22,
   "id": "08e5f25c",
   "metadata": {},
   "outputs": [
    {
     "name": "stdout",
     "output_type": "stream",
     "text": [
      "2 : [0.7907142857142857, 0.6055952380952381]\n",
      "3 : [0.7758035714285715, 0.6333333333333333]\n",
      "4 : [0.7508928571428571, 0.6460714285714285]\n",
      "5 : [0.7412202380952381, 0.6516666666666666]\n",
      "6 : [0.7311904761904762, 0.6545238095238095]\n",
      "7 : [0.7238095238095238, 0.6528571428571428]\n",
      "8 : [0.7188095238095238, 0.6555952380952381]\n"
     ]
    }
   ],
   "source": [
    "for keys, values in scores.items():\n",
    "    print(keys, ':', values)"
   ]
  },
  {
   "cell_type": "code",
   "execution_count": 23,
   "id": "ad44be46",
   "metadata": {},
   "outputs": [
    {
     "name": "stderr",
     "output_type": "stream",
     "text": [
      "/home/ec2-user/anaconda3/envs/python3/lib/python3.6/site-packages/seaborn/_decorators.py:43: FutureWarning: Pass the following variables as keyword args: x, y. From version 0.12, the only valid positional argument will be `data`, and passing other arguments without an explicit keyword will result in an error or misinterpretation.\n",
      "  FutureWarning\n"
     ]
    },
    {
     "data": {
      "image/png": "[encoded data removed]",
      "text/plain": [
       "<Figure size 432x288 with 1 Axes>"
      ]
     },
     "metadata": {
      "needs_background": "light"
     },
     "output_type": "display_data"
    }
   ],
   "source": [
    "ax = sns.stripplot(K, training);\n",
    "ax.set(xlabel ='values of k', ylabel ='Training Score')  \n",
    "  \n",
    "plt.show()\n",
    "# function to show plot"
   ]
  },
  {
   "cell_type": "markdown",
   "id": "aceba726",
   "metadata": {},
   "source": [
    "## Using k=2 only for the best model"
   ]
  },
  {
   "cell_type": "code",
   "execution_count": 38,
   "id": "ee607fd0",
   "metadata": {},
   "outputs": [],
   "source": [
    "import time\n",
    "from sklearn.metrics import mean_absolute_error\n",
    "start_time = time.time()\n",
    "\n",
    "clf = KNeighborsClassifier(n_neighbors = 2)\n",
    "clf.fit(X_train, y_train)\n",
    "\n",
    "y_pred=clf.predict(X_test)"
   ]
  },
  {
   "cell_type": "code",
   "execution_count": 39,
   "id": "1b77e5a4",
   "metadata": {},
   "outputs": [
    {
     "name": "stdout",
     "output_type": "stream",
     "text": [
      "Execution Time: 4.029138565063477 seconds ---\n",
      "Accuracy: 0.6055952380952381\n",
      "MAE: 1.3079761904761904\n"
     ]
    }
   ],
   "source": [
    "print(\"Execution Time: %s seconds ---\" % (time.time() - start_time))\n",
    "\n",
    "# import the metrics class\n",
    "from sklearn import metrics\n",
    "print(\"Accuracy:\",metrics.accuracy_score(y_test, y_pred))\n",
    "print(\"MAE:\",mean_absolute_error(y_test, y_pred))"
   ]
  },
  {
   "cell_type": "markdown",
   "id": "a087a4e8",
   "metadata": {},
   "source": [
    "# Training a Random Forest model "
   ]
  },
  {
   "cell_type": "code",
   "execution_count": 53,
   "id": "91caef1e",
   "metadata": {},
   "outputs": [],
   "source": [
    "dataframe_random_forest = df\n",
    "X=dataframe_random_forest.values\n",
    "y = y_logr\n",
    "\n",
    "# split X and y into training and testing sets\n",
    "from sklearn.model_selection import train_test_split\n",
    "X_train,X_test,y_train,y_test=train_test_split(X,y,test_size=0.2,random_state=0)"
   ]
  },
  {
   "cell_type": "code",
   "execution_count": 54,
   "id": "98e452ea",
   "metadata": {},
   "outputs": [],
   "source": [
    "import time\n",
    "start_time = time.time()\n",
    "\n",
    "# Create Decision Tree classifer object\n",
    "clf = RandomForestClassifier(n_estimators=100)\n",
    "\n",
    "# Train Decision Tree Classifer\n",
    "clf = clf.fit(X_train,y_train)\n",
    "\n",
    "#Predict the response for test dataset\n",
    "y_pred = clf.predict(X_test)"
   ]
  },
  {
   "cell_type": "code",
   "execution_count": 55,
   "id": "a070eb74",
   "metadata": {},
   "outputs": [
    {
     "name": "stdout",
     "output_type": "stream",
     "text": [
      "Execution Time: 4.540936708450317 seconds ---\n",
      "Accuracy: 0.9854761904761905\n",
      "MAE: 0.023452380952380954\n"
     ]
    }
   ],
   "source": [
    "print(\"Execution Time: %s seconds ---\" % (time.time() - start_time))\n",
    "\n",
    "# import the metrics class\n",
    "from sklearn import metrics\n",
    "print(\"Accuracy:\",metrics.accuracy_score(y_test, y_pred))\n",
    "print(\"MAE:\",mean_absolute_error(y_test, y_pred))"
   ]
  },
  {
   "cell_type": "markdown",
   "id": "b53d9cae",
   "metadata": {},
   "source": [
    "## with feature selection"
   ]
  },
  {
   "cell_type": "code",
   "execution_count": 72,
   "id": "c1527421",
   "metadata": {},
   "outputs": [
    {
     "name": "stderr",
     "output_type": "stream",
     "text": [
      "/home/ec2-user/anaconda3/envs/python3/lib/python3.6/site-packages/sklearn/utils/validation.py:72: FutureWarning: Pass n_features_to_select=35 as keyword args. From version 1.0 (renaming of 0.25) passing these as positional arguments will result in an error\n",
      "  \"will result in an error\", FutureWarning)\n"
     ]
    },
    {
     "name": "stdout",
     "output_type": "stream",
     "text": [
      "[False False False  True  True  True  True  True  True  True  True  True\n",
      "  True False False False False False False  True  True  True  True  True\n",
      "  True  True  True  True  True  True  True  True  True  True  True  True\n",
      "  True  True  True  True  True  True  True  True False]\n",
      "[10  9  5  1  1  1  1  1  1  1  1  1  1  2  4  7  8 11  3  1  1  1  1  1\n",
      "  1  1  1  1  1  1  1  1  1  1  1  1  1  1  1  1  1  1  1  1  6]\n"
     ]
    }
   ],
   "source": [
    "#Import Random Forest Model\n",
    "from sklearn.ensemble import RandomForestClassifier\n",
    "\n",
    "#Create a Gaussian Classifier\n",
    "clf=RandomForestClassifier(n_estimators=100)\n",
    "\n",
    "y_logr=df['label']\n",
    "x_logr=df.drop(['label'],axis=1) \n",
    "\n",
    "rfe = RFE(clf,35)\n",
    "rfe = rfe.fit(x_logr, y_logr.values.ravel())\n",
    "print(rfe.support_)\n",
    "print(rfe.ranking_)"
   ]
  },
  {
   "cell_type": "code",
   "execution_count": 73,
   "id": "248e924a",
   "metadata": {},
   "outputs": [],
   "source": [
    "to_select_column = rfe.support_\n",
    "all_columns = list(df.columns)\n",
    "all_columns.remove('label')\n",
    "selected_features = []\n",
    "for i in range(0,len(all_columns)):\n",
    "    if(to_select_column[i] == True):\n",
    "        selected_features.append(all_columns[i])"
   ]
  },
  {
   "cell_type": "code",
   "execution_count": 74,
   "id": "e5d84b45",
   "metadata": {},
   "outputs": [
    {
     "data": {
      "text/plain": [
       "['pixel124',\n",
       " 'pixel125',\n",
       " 'pixel126',\n",
       " 'pixel127',\n",
       " 'pixel128',\n",
       " 'pixel129',\n",
       " 'pixel130',\n",
       " 'pixel131',\n",
       " 'pixel132',\n",
       " 'pixel133',\n",
       " 'pixel147',\n",
       " 'pixel148',\n",
       " 'pixel149',\n",
       " 'pixel150',\n",
       " 'pixel151',\n",
       " 'pixel152',\n",
       " 'pixel153',\n",
       " 'pixel154',\n",
       " 'pixel155',\n",
       " 'pixel156',\n",
       " 'pixel157',\n",
       " 'pixel158',\n",
       " 'pixel159',\n",
       " 'pixel160',\n",
       " 'pixel327',\n",
       " 'pixel328',\n",
       " 'pixel329',\n",
       " 'pixel351',\n",
       " 'pixel410',\n",
       " 'pixel411',\n",
       " 'pixel412',\n",
       " 'pixel413',\n",
       " 'pixel414',\n",
       " 'pixel415',\n",
       " 'pixel416']"
      ]
     },
     "execution_count": 74,
     "metadata": {},
     "output_type": "execute_result"
    }
   ],
   "source": [
    "random_forest_selected_features = selected_features\n",
    "random_forest_selected_features"
   ]
  },
  {
   "cell_type": "markdown",
   "id": "6a38e9a2",
   "metadata": {},
   "source": [
    "## Considering only selected features"
   ]
  },
  {
   "cell_type": "code",
   "execution_count": 75,
   "id": "6a1613e8",
   "metadata": {},
   "outputs": [],
   "source": [
    "dataframe_random_forest = df[selected_features]\n",
    "X=dataframe_random_forest.values\n",
    "y = y_logr\n",
    "\n",
    "# split X and y into training and testing sets\n",
    "from sklearn.model_selection import train_test_split\n",
    "X_train,X_test,y_train,y_test=train_test_split(X,y,test_size=0.2,random_state=0)"
   ]
  },
  {
   "cell_type": "code",
   "execution_count": 76,
   "id": "913bb33b",
   "metadata": {},
   "outputs": [],
   "source": [
    "import time\n",
    "start_time = time.time()\n",
    "\n",
    "# Create Decision Tree classifer object\n",
    "clf = RandomForestClassifier(n_estimators=100)\n",
    "\n",
    "# Train Decision Tree Classifer\n",
    "clf = clf.fit(X_train,y_train)\n",
    "\n",
    "#Predict the response for test dataset\n",
    "y_pred = clf.predict(X_test)"
   ]
  },
  {
   "cell_type": "code",
   "execution_count": 77,
   "id": "9dc87cb0",
   "metadata": {},
   "outputs": [
    {
     "name": "stdout",
     "output_type": "stream",
     "text": [
      "Execution Time: 6.159554719924927 seconds ---\n",
      "Accuracy: 0.7007142857142857\n",
      "MAE: 0.9747619047619047\n"
     ]
    }
   ],
   "source": [
    "print(\"Execution Time: %s seconds ---\" % (time.time() - start_time))\n",
    "\n",
    "# import the metrics class\n",
    "from sklearn import metrics\n",
    "print(\"Accuracy:\",metrics.accuracy_score(y_test, y_pred))\n",
    "print(\"MAE:\",mean_absolute_error(y_test, y_pred))"
   ]
  },
  {
   "cell_type": "markdown",
   "id": "433e0ba2",
   "metadata": {},
   "source": [
    "## feature selection clearly did not help, lets try more number of trees"
   ]
  },
  {
   "cell_type": "markdown",
   "id": "3fdb93da",
   "metadata": {},
   "source": [
    "## Considering more number of trees in Random Forest"
   ]
  },
  {
   "cell_type": "code",
   "execution_count": 80,
   "id": "e1ac962b",
   "metadata": {},
   "outputs": [],
   "source": [
    "dataframe_random_forest = df\n",
    "X=dataframe_random_forest.values\n",
    "y = y_logr\n",
    "\n",
    "# split X and y into training and testing sets\n",
    "from sklearn.model_selection import train_test_split\n",
    "X_train,X_test,y_train,y_test=train_test_split(X,y,test_size=0.2,random_state=0)"
   ]
  },
  {
   "cell_type": "code",
   "execution_count": 81,
   "id": "eb8b53ed",
   "metadata": {},
   "outputs": [],
   "source": [
    "import time\n",
    "start_time = time.time()\n",
    "\n",
    "# Create Decision Tree classifer object\n",
    "clf = RandomForestClassifier(n_estimators=500)\n",
    "\n",
    "# Train Decision Tree Classifer\n",
    "clf = clf.fit(X_train,y_train)\n",
    "\n",
    "#Predict the response for test dataset\n",
    "y_pred = clf.predict(X_test)"
   ]
  },
  {
   "cell_type": "code",
   "execution_count": 82,
   "id": "7b84e09c",
   "metadata": {},
   "outputs": [
    {
     "name": "stdout",
     "output_type": "stream",
     "text": [
      "Execution Time: 22.5039279460907 seconds ---\n",
      "Accuracy: 0.9841666666666666\n",
      "MAE: 0.022738095238095238\n"
     ]
    }
   ],
   "source": [
    "print(\"Execution Time: %s seconds ---\" % (time.time() - start_time))\n",
    "\n",
    "# import the metrics class\n",
    "from sklearn import metrics\n",
    "print(\"Accuracy:\",metrics.accuracy_score(y_test, y_pred))\n",
    "print(\"MAE:\",mean_absolute_error(y_test, y_pred))"
   ]
  },
  {
   "cell_type": "markdown",
   "id": "8db72520",
   "metadata": {},
   "source": [
    "## More trees decreased the accuracy a little but equally decreased the error"
   ]
  },
  {
   "cell_type": "markdown",
   "id": "cb128211",
   "metadata": {},
   "source": [
    "# Training Neural Network Model"
   ]
  },
  {
   "cell_type": "code",
   "execution_count": 83,
   "id": "bdbba442",
   "metadata": {},
   "outputs": [],
   "source": [
    "X=df.values\n",
    "y = y_logr\n",
    "\n",
    "# split X and y into training and testing sets\n",
    "from sklearn.model_selection import train_test_split\n",
    "X_train,X_test,y_train,y_test=train_test_split(X,y,test_size=0.2,random_state=0)"
   ]
  },
  {
   "cell_type": "code",
   "execution_count": 84,
   "id": "2c25fc60",
   "metadata": {},
   "outputs": [],
   "source": [
    "from sklearn.neural_network import MLPClassifier\n",
    "import time\n",
    "start_time = time.time()\n",
    "mlp = MLPClassifier(hidden_layer_sizes=(13,13,13),max_iter=500)\n",
    "mlp.fit(X_train,y_train)\n",
    "y_pred = mlp.predict(X_test)"
   ]
  },
  {
   "cell_type": "code",
   "execution_count": 85,
   "id": "d7ff3129",
   "metadata": {},
   "outputs": [
    {
     "name": "stdout",
     "output_type": "stream",
     "text": [
      "Execution Time: 29.258266925811768 seconds ---\n",
      "Accuracy: 0.998452380952381\n",
      "MAE: 0.0019047619047619048\n"
     ]
    }
   ],
   "source": [
    "print(\"Execution Time: %s seconds ---\" % (time.time() - start_time))\n",
    "\n",
    "# import the metrics class\n",
    "from sklearn import metrics\n",
    "print(\"Accuracy:\",metrics.accuracy_score(y_test, y_pred))\n",
    "print(\"MAE:\",mean_absolute_error(y_test, y_pred))"
   ]
  },
  {
   "cell_type": "markdown",
   "id": "0849d3f5",
   "metadata": {},
   "source": [
    "## Using optimal number of neurons in each layer "
   ]
  },
  {
   "cell_type": "code",
   "execution_count": 100,
   "id": "f063e690",
   "metadata": {},
   "outputs": [],
   "source": [
    "from sklearn.neural_network import MLPClassifier\n",
    "import time\n",
    "start_time = time.time()\n",
    "mlp = MLPClassifier(hidden_layer_sizes=(8,8,8),max_iter=500)\n",
    "mlp.fit(X_train,y_train)\n",
    "y_pred = mlp.predict(X_test)"
   ]
  },
  {
   "cell_type": "code",
   "execution_count": 101,
   "id": "317ed149",
   "metadata": {},
   "outputs": [
    {
     "name": "stdout",
     "output_type": "stream",
     "text": [
      "Execution Time: 29.660076141357422 seconds ---\n",
      "Accuracy: 0.9983333333333333\n",
      "MAE: 0.0017857142857142857\n"
     ]
    }
   ],
   "source": [
    "print(\"Execution Time: %s seconds ---\" % (time.time() - start_time))\n",
    "\n",
    "# import the metrics class\n",
    "from sklearn import metrics\n",
    "print(\"Accuracy:\",metrics.accuracy_score(y_test, y_pred))\n",
    "print(\"MAE:\",mean_absolute_error(y_test, y_pred))"
   ]
  },
  {
   "cell_type": "markdown",
   "id": "8449f971",
   "metadata": {},
   "source": [
    "## Using More layers"
   ]
  },
  {
   "cell_type": "code",
   "execution_count": 102,
   "id": "84b435c3",
   "metadata": {},
   "outputs": [],
   "source": [
    "from sklearn.neural_network import MLPClassifier\n",
    "import time\n",
    "start_time = time.time()\n",
    "mlp = MLPClassifier(hidden_layer_sizes=(8,8,8,8),max_iter=500)\n",
    "mlp.fit(X_train,y_train)\n",
    "y_pred = mlp.predict(X_test)"
   ]
  },
  {
   "cell_type": "code",
   "execution_count": 103,
   "id": "ee21a773",
   "metadata": {},
   "outputs": [
    {
     "name": "stdout",
     "output_type": "stream",
     "text": [
      "Execution Time: 32.57200574874878 seconds ---\n",
      "Accuracy: 0.9997619047619047\n",
      "MAE: 0.0002380952380952381\n"
     ]
    }
   ],
   "source": [
    "print(\"Execution Time: %s seconds ---\" % (time.time() - start_time))\n",
    "\n",
    "# import the metrics class\n",
    "from sklearn import metrics\n",
    "print(\"Accuracy:\",metrics.accuracy_score(y_test, y_pred))\n",
    "print(\"MAE:\",mean_absolute_error(y_test, y_pred))"
   ]
  },
  {
   "cell_type": "code",
   "execution_count": null,
   "id": "46c78753",
   "metadata": {},
   "outputs": [],
   "source": [
    "Ref : \n",
    "1. https://www.springboard.com/blog/ai-machine-learning/beginners-guide-neural-network-in-python-scikit-learn-0-18/\n",
    "2. https://towardsdatascience.com/beginners-ask-how-many-hidden-layers-neurons-to-use-in-artificial-neural-networks-51466afa0d3e        "
   ]
  }
 ],
 "metadata": {
  "kernelspec": {
   "display_name": "conda_python3",
   "language": "python",
   "name": "conda_python3"
  },
  "language_info": {
   "codemirror_mode": {
    "name": "ipython",
    "version": 3
   },
   "file_extension": ".py",
   "mimetype": "text/x-python",
   "name": "python",
   "nbconvert_exporter": "python",
   "pygments_lexer": "ipython3",
   "version": "3.6.13"
  }
 },
 "nbformat": 4,
 "nbformat_minor": 5
}
